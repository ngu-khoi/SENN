{
 "cells": [
  {
   "cell_type": "markdown",
   "metadata": {},
   "source": [
    "# 1. Environment Setup\n"
   ]
  },
  {
   "cell_type": "code",
   "execution_count": 1,
   "metadata": {},
   "outputs": [],
   "source": [
    "import json\n",
    "import torch\n",
    "import numpy as np\n",
    "import torch.nn as nn\n",
    "from torchvision.utils import make_grid\n",
    "import matplotlib.pyplot as plt\n",
    "from pathlib import Path\n",
    "from types import SimpleNamespace\n",
    "from importlib import import_module\n",
    "\n",
    "%matplotlib inline"
   ]
  },
  {
   "cell_type": "code",
   "execution_count": 2,
   "metadata": {},
   "outputs": [],
   "source": [
    "from senn.models.losses import *\n",
    "from senn.models.parameterizers import *\n",
    "from senn.models.conceptizers import *\n",
    "from senn.models.aggregators import *\n",
    "from senn.models.senn import SENN, DiSENN"
   ]
  },
  {
   "cell_type": "code",
   "execution_count": 3,
   "metadata": {},
   "outputs": [],
   "source": [
    "from senn.datasets.dataloaders import get_dataloader\n",
    "from senn.utils.plot_utils import show_explainations, show_prototypes, plot_lambda_accuracy, get_comparison_plot"
   ]
  },
  {
   "cell_type": "code",
   "execution_count": 4,
   "metadata": {},
   "outputs": [],
   "source": [
    "from rotation import rotate_resize_and_cast, rotate_image"
   ]
  },
  {
   "cell_type": "markdown",
   "metadata": {},
   "source": [
    "## Utility functions"
   ]
  },
  {
   "cell_type": "code",
   "execution_count": 5,
   "metadata": {},
   "outputs": [],
   "source": [
    "def get_config(filename):\n",
    "    config_path = Path('configs')\n",
    "    config_file = config_path / filename\n",
    "    with open(config_file, 'r') as f:\n",
    "        config = json.load(f)\n",
    "    \n",
    "    return SimpleNamespace(**config)"
   ]
  },
  {
   "cell_type": "code",
   "execution_count": 6,
   "metadata": {},
   "outputs": [],
   "source": [
    "def load_checkpoint(config):\n",
    "    model_file = Path('results') / config.exp_name / \"checkpoints\" / \"best_model.pt\" \n",
    "    return torch.load(model_file, config.device)"
   ]
  },
  {
   "cell_type": "code",
   "execution_count": 7,
   "metadata": {},
   "outputs": [],
   "source": [
    "def accuracy(model, dataloader, config):\n",
    "    accuracies = []\n",
    "    model.eval()\n",
    "    with torch.no_grad():\n",
    "        for i, (x, labels) in enumerate(dataloader):\n",
    "            x = x.float().to(config.device)\n",
    "            labels = labels.long().to(config.device)\n",
    "            y_pred, (concepts, relevances), _ = model(x)\n",
    "            accuracies.append((y_pred.argmax(axis=1) == labels).float().mean().item())\n",
    "    accuracy = np.array(accuracies).mean()\n",
    "    print(f\"Test Mean Accuracy: {accuracy * 100: .3f} %\")"
   ]
  },
  {
   "cell_type": "markdown",
   "metadata": {},
   "source": [
    "## Config"
   ]
  },
  {
   "cell_type": "code",
   "execution_count": 8,
   "metadata": {},
   "outputs": [],
   "source": [
    "plt.style.use('seaborn-v0_8-paper')"
   ]
  },
  {
   "cell_type": "markdown",
   "metadata": {},
   "source": [
    "# 2. Basic Comparisons"
   ]
  },
  {
   "cell_type": "code",
   "execution_count": 9,
   "metadata": {},
   "outputs": [],
   "source": [
    "mnist_config = get_config(\"mnist_lambda1e-4_seed29.json\")\n",
    "mnist_config.device = \"cpu\""
   ]
  },
  {
   "cell_type": "code",
   "execution_count": 10,
   "metadata": {},
   "outputs": [],
   "source": [
    "_, _, mnist_test_dl = get_dataloader(mnist_config)"
   ]
  },
  {
   "cell_type": "code",
   "execution_count": 11,
   "metadata": {},
   "outputs": [],
   "source": [
    "conceptizer = ConvConceptizer(**mnist_config.__dict__)\n",
    "parameterizer = ConvParameterizer(**mnist_config.__dict__)\n",
    "aggregator = SumAggregator(**mnist_config.__dict__)\n",
    "\n",
    "mnist_SENN = SENN(conceptizer, parameterizer, aggregator)"
   ]
  },
  {
   "cell_type": "code",
   "execution_count": null,
   "metadata": {},
   "outputs": [],
   "source": [
    "mnist_checkpoint = load_checkpoint(mnist_config)\n",
    "mnist_SENN.load_state_dict(mnist_checkpoint['model_state'])"
   ]
  },
  {
   "cell_type": "code",
   "execution_count": null,
   "metadata": {},
   "outputs": [],
   "source": [
    "show_explainations(mnist_SENN, mnist_test_dl, 'mnist')"
   ]
  },
  {
   "cell_type": "code",
   "execution_count": null,
   "metadata": {},
   "outputs": [],
   "source": [
    "# Imports\n",
    "import json\n",
    "from os import path\n",
    "from pathlib import Path\n",
    "import matplotlib.pyplot as plt\n",
    "import numpy as np\n",
    "import pandas as pd\n",
    "import torch\n",
    "import cv2\n",
    "\n",
    "from rotation import rotate_resize_and_cast\n",
    "\n",
    "from senn.utils.plot_utils import (\n",
    "    create_barplot,\n",
    "    plot_lambda_accuracy,\n",
    "    show_explainations\n",
    ")\n",
    "\n",
    "plt.style.use('seaborn-v0_8-paper')\n",
    "\n",
    "def show_explanation_with_rotation(model, image, x_rotation=30, y_rotation=30, z_rotation=30, save_path=None):\n",
    "    \"\"\"Shows SENN explanations for original and rotated versions of an image.\"\"\"\n",
    "    device = 'cuda:0' if next(model.parameters()).is_cuda else 'cpu'\n",
    "    model.eval()\n",
    "    \n",
    "    # Prepare original image\n",
    "    original_img = image.unsqueeze(0).float().to(device)\n",
    "    \n",
    "    # Create rotated version\n",
    "    image_np = image.squeeze().cpu().numpy()\n",
    "    image_bgr = cv2.merge([image_np] * 3)\n",
    "    _, rotated_img = rotate_resize_and_cast(\n",
    "        image_bgr, \n",
    "        x_rotation=x_rotation,\n",
    "        y_rotation=y_rotation,\n",
    "        z_rotation=z_rotation\n",
    "    )\n",
    "    rotated_tensor = torch.tensor(rotated_img[:,:,0]).unsqueeze(0).float().to(device)\n",
    "    \n",
    "    # Get SENN explanations for both\n",
    "    with torch.no_grad():\n",
    "        y_pred_orig, (concepts_orig, relevances_orig), _ = model(original_img)\n",
    "        y_pred_rot, (concepts_rot, relevances_rot), _ = model(rotated_tensor)\n",
    "    \n",
    "    if len(y_pred_orig.size()) > 1:\n",
    "        y_pred_orig = y_pred_orig.argmax(1)\n",
    "        y_pred_rot = y_pred_rot.argmax(1)\n",
    "    \n",
    "    # Get concept limits for consistent plotting\n",
    "    concepts = torch.cat([concepts_orig, concepts_rot])\n",
    "    concepts_min = concepts.min().item()\n",
    "    concepts_max = concepts.max().item()\n",
    "    concept_lim = max(abs(concepts_min), abs(concepts_max))\n",
    "    \n",
    "    # Create figure\n",
    "    fig = plt.figure(figsize=(15, 6))\n",
    "    gridsize = (2, 3)\n",
    "    \n",
    "    # Original image and its explanations\n",
    "    ax1 = plt.subplot2grid(gridsize, (0, 0))\n",
    "    ax2 = plt.subplot2grid(gridsize, (0, 1))\n",
    "    ax3 = plt.subplot2grid(gridsize, (0, 2))\n",
    "    \n",
    "    # Rotated image and its explanations\n",
    "    ax4 = plt.subplot2grid(gridsize, (1, 0))\n",
    "    ax5 = plt.subplot2grid(gridsize, (1, 1))\n",
    "    ax6 = plt.subplot2grid(gridsize, (1, 2))\n",
    "    \n",
    "    # Plot original image and explanations\n",
    "    ax1.imshow(original_img.squeeze().cpu(), cmap='gray')\n",
    "    ax1.set_axis_off()\n",
    "    ax1.set_title(f'Original - Pred: {y_pred_orig.item()}', fontsize=12)\n",
    "    \n",
    "    create_barplot(ax2, relevances_orig[0], y_pred_orig[0], x_label='Relevances (θ)')\n",
    "    ax2.xaxis.set_label_position('top')\n",
    "    ax2.tick_params(which='major', labelsize=10)\n",
    "    \n",
    "    create_barplot(ax3, concepts_orig[0], y_pred_orig[0], \n",
    "                  x_lim=concept_lim, x_label='Concepts (h)')\n",
    "    ax3.xaxis.set_label_position('top')\n",
    "    ax3.tick_params(which='major', labelsize=10)\n",
    "    \n",
    "    # Plot rotated image and explanations\n",
    "    ax4.imshow(rotated_tensor.squeeze().cpu(), cmap='gray')\n",
    "    ax4.set_axis_off()\n",
    "    ax4.set_title(f'Rotated ({x_rotation}°,{y_rotation}°,{z_rotation}°) - Pred: {y_pred_rot.item()}', fontsize=12)\n",
    "    \n",
    "    create_barplot(ax5, relevances_rot[0], y_pred_rot[0], x_label='Relevances (θ)')\n",
    "    ax5.tick_params(which='major', labelsize=10)\n",
    "    \n",
    "    create_barplot(ax6, concepts_rot[0], y_pred_rot[0], \n",
    "                  x_lim=concept_lim, x_label='Concepts (h)')\n",
    "    ax6.tick_params(which='major', labelsize=10)\n",
    "    \n",
    "    plt.tight_layout()\n",
    "    plt.show()\n",
    "    plt.close('all')"
   ]
  },
  {
   "cell_type": "code",
   "execution_count": null,
   "metadata": {},
   "outputs": [],
   "source": [
    "print(\"Moderate Rotations (-45° to 45°)\")\n",
    "print(\"---------------------------------\")\n",
    "for i in range(10):\n",
    "    test_batch, _ = next(iter(mnist_test_dl))\n",
    "    random_idx = np.random.randint(0, len(test_batch))\n",
    "    sample_image = test_batch[random_idx]\n",
    "    \n",
    "    print(f\"\\nModerate Explanation {i+1}/10\")\n",
    "    show_explanation_with_rotation(\n",
    "        model=mnist_SENN,\n",
    "        image=sample_image,\n",
    "        x_rotation=np.random.randint(-45, 45),\n",
    "        y_rotation=np.random.randint(-45, 45),\n",
    "        z_rotation=np.random.randint(-45, 45)\n",
    "    )"
   ]
  },
  {
   "cell_type": "code",
   "execution_count": null,
   "metadata": {},
   "outputs": [],
   "source": [
    "print(\"\\nExtreme Rotations (-90° to 90°)\")\n",
    "print(\"---------------------------------\")\n",
    "for i in range(10):\n",
    "    test_batch, _ = next(iter(mnist_test_dl))\n",
    "    random_idx = np.random.randint(0, len(test_batch))\n",
    "    sample_image = test_batch[random_idx]\n",
    "    \n",
    "    print(f\"\\nExtreme Explanation {i+1}/10\")\n",
    "    show_explanation_with_rotation(\n",
    "        model=mnist_SENN,\n",
    "        image=sample_image,\n",
    "        x_rotation=np.random.randint(-90, 90),\n",
    "        y_rotation=np.random.randint(-90, 90),\n",
    "        z_rotation=np.random.randint(-90, 90)\n",
    "    )"
   ]
  }
 ],
 "metadata": {
  "kernelspec": {
   "display_name": "venv",
   "language": "python",
   "name": "python3"
  },
  "language_info": {
   "codemirror_mode": {
    "name": "ipython",
    "version": 3
   },
   "file_extension": ".py",
   "mimetype": "text/x-python",
   "name": "python",
   "nbconvert_exporter": "python",
   "pygments_lexer": "ipython3",
   "version": "3.12.2"
  }
 },
 "nbformat": 4,
 "nbformat_minor": 2
}
